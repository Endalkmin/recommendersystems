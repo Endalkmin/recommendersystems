{
 "cells": [
  {
   "cell_type": "markdown",
   "id": "ed334c9b",
   "metadata": {},
   "source": [
    "# Recommendation System For Top 5 Movies\n",
    "\n",
    "## Team 4 - Phase Four Project"
   ]
  },
  {
   "cell_type": "markdown",
   "id": "96e6a87e",
   "metadata": {},
   "source": [
    "### Authors:\n",
    "1. Hellen Muanki\n",
    "2. Jesicah Mutiso\n",
    "3. Endalkachew Dessalegne\n",
    "4. Brian Waweru\n",
    "   "
   ]
  },
  {
   "cell_type": "markdown",
   "id": "6a378a41",
   "metadata": {},
   "source": [
    "## 1. Project Overview"
   ]
  },
  {
   "cell_type": "markdown",
   "id": "f5402c37",
   "metadata": {},
   "source": [
    "A new movie streaming startup, aims to offer a highly personalized viewing experience to differentiate itself in a crowded market. One of its core features is a movie recommendation system that helps users discover films they are likely to enjoy, based on their past preferences.\n",
    "\n",
    "Accurate and relevant movie recommendations to users based on factors such as movie ratings and rating counts.\n",
    "\n"
   ]
  },
  {
   "cell_type": "markdown",
   "id": "22d063cf",
   "metadata": {},
   "source": [
    "## 1.1. Business Understanding \n",
    "### 1.1.1 Business Problem \n"
   ]
  },
  {
   "cell_type": "markdown",
   "id": "de882434",
   "metadata": {},
   "source": []
  },
  {
   "cell_type": "markdown",
   "id": "f814ffb7",
   "metadata": {},
   "source": [
    "### 1.1.2. Key Business Questions"
   ]
  },
  {
   "cell_type": "markdown",
   "id": "54b41ef1",
   "metadata": {},
   "source": [
    "1. What top 5 movies can be recommeded for a user with ratings for other movies?\n",
    "2. what top 5 movies can be recommended for a new user with no ratings of movies?"
   ]
  },
  {
   "cell_type": "markdown",
   "id": "185a0c11",
   "metadata": {},
   "source": [
    "## 2. Data Understanding"
   ]
  },
  {
   "cell_type": "code",
   "execution_count": 58,
   "id": "83f59d79",
   "metadata": {},
   "outputs": [],
   "source": [
    "#import necessary libraries \n",
    "\n",
    "import pandas as pd\n",
    "import numpy as np\n",
    "from surprise import Dataset, Reader, SVD\n",
    "from sklearn.neighbors import NearestNeighbors\n",
    "from sklearn.feature_extraction.text import TfidfVectorizer\n",
    "from sklearn.metrics.pairwise import cosine_similarity \n",
    "from surprise.model_selection import train_test_split as surprise_split \n",
    "from sklearn.model_selection import train_test_split\n",
    "from surprise import accuracy\n",
    "import matplotlib.pyplot as plt\n",
    "import seaborn as sns\n",
    "\n"
   ]
  },
  {
   "cell_type": "code",
   "execution_count": 59,
   "id": "c37a8ff8",
   "metadata": {},
   "outputs": [
    {
     "data": {
      "text/html": [
       "<div>\n",
       "<style scoped>\n",
       "    .dataframe tbody tr th:only-of-type {\n",
       "        vertical-align: middle;\n",
       "    }\n",
       "\n",
       "    .dataframe tbody tr th {\n",
       "        vertical-align: top;\n",
       "    }\n",
       "\n",
       "    .dataframe thead th {\n",
       "        text-align: right;\n",
       "    }\n",
       "</style>\n",
       "<table border=\"1\" class=\"dataframe\">\n",
       "  <thead>\n",
       "    <tr style=\"text-align: right;\">\n",
       "      <th></th>\n",
       "      <th>movieId</th>\n",
       "      <th>title</th>\n",
       "      <th>genres</th>\n",
       "    </tr>\n",
       "  </thead>\n",
       "  <tbody>\n",
       "    <tr>\n",
       "      <th>0</th>\n",
       "      <td>1</td>\n",
       "      <td>Toy Story (1995)</td>\n",
       "      <td>Adventure|Animation|Children|Comedy|Fantasy</td>\n",
       "    </tr>\n",
       "    <tr>\n",
       "      <th>1</th>\n",
       "      <td>2</td>\n",
       "      <td>Jumanji (1995)</td>\n",
       "      <td>Adventure|Children|Fantasy</td>\n",
       "    </tr>\n",
       "    <tr>\n",
       "      <th>2</th>\n",
       "      <td>3</td>\n",
       "      <td>Grumpier Old Men (1995)</td>\n",
       "      <td>Comedy|Romance</td>\n",
       "    </tr>\n",
       "    <tr>\n",
       "      <th>3</th>\n",
       "      <td>4</td>\n",
       "      <td>Waiting to Exhale (1995)</td>\n",
       "      <td>Comedy|Drama|Romance</td>\n",
       "    </tr>\n",
       "    <tr>\n",
       "      <th>4</th>\n",
       "      <td>5</td>\n",
       "      <td>Father of the Bride Part II (1995)</td>\n",
       "      <td>Comedy</td>\n",
       "    </tr>\n",
       "  </tbody>\n",
       "</table>\n",
       "</div>"
      ],
      "text/plain": [
       "   movieId                               title  \\\n",
       "0        1                    Toy Story (1995)   \n",
       "1        2                      Jumanji (1995)   \n",
       "2        3             Grumpier Old Men (1995)   \n",
       "3        4            Waiting to Exhale (1995)   \n",
       "4        5  Father of the Bride Part II (1995)   \n",
       "\n",
       "                                        genres  \n",
       "0  Adventure|Animation|Children|Comedy|Fantasy  \n",
       "1                   Adventure|Children|Fantasy  \n",
       "2                               Comedy|Romance  \n",
       "3                         Comedy|Drama|Romance  \n",
       "4                                       Comedy  "
      ]
     },
     "execution_count": 59,
     "metadata": {},
     "output_type": "execute_result"
    }
   ],
   "source": [
    "# load movies dataset\n",
    "df_movies = pd.read_csv(\"data/movies.csv\")\n",
    "df_movies.head(5)"
   ]
  },
  {
   "cell_type": "code",
   "execution_count": 60,
   "id": "c81810c2",
   "metadata": {},
   "outputs": [
    {
     "data": {
      "text/html": [
       "<div>\n",
       "<style scoped>\n",
       "    .dataframe tbody tr th:only-of-type {\n",
       "        vertical-align: middle;\n",
       "    }\n",
       "\n",
       "    .dataframe tbody tr th {\n",
       "        vertical-align: top;\n",
       "    }\n",
       "\n",
       "    .dataframe thead th {\n",
       "        text-align: right;\n",
       "    }\n",
       "</style>\n",
       "<table border=\"1\" class=\"dataframe\">\n",
       "  <thead>\n",
       "    <tr style=\"text-align: right;\">\n",
       "      <th></th>\n",
       "      <th>userId</th>\n",
       "      <th>movieId</th>\n",
       "      <th>rating</th>\n",
       "      <th>timestamp</th>\n",
       "    </tr>\n",
       "  </thead>\n",
       "  <tbody>\n",
       "    <tr>\n",
       "      <th>0</th>\n",
       "      <td>1</td>\n",
       "      <td>1</td>\n",
       "      <td>4.0</td>\n",
       "      <td>964982703</td>\n",
       "    </tr>\n",
       "    <tr>\n",
       "      <th>1</th>\n",
       "      <td>1</td>\n",
       "      <td>3</td>\n",
       "      <td>4.0</td>\n",
       "      <td>964981247</td>\n",
       "    </tr>\n",
       "    <tr>\n",
       "      <th>2</th>\n",
       "      <td>1</td>\n",
       "      <td>6</td>\n",
       "      <td>4.0</td>\n",
       "      <td>964982224</td>\n",
       "    </tr>\n",
       "    <tr>\n",
       "      <th>3</th>\n",
       "      <td>1</td>\n",
       "      <td>47</td>\n",
       "      <td>5.0</td>\n",
       "      <td>964983815</td>\n",
       "    </tr>\n",
       "    <tr>\n",
       "      <th>4</th>\n",
       "      <td>1</td>\n",
       "      <td>50</td>\n",
       "      <td>5.0</td>\n",
       "      <td>964982931</td>\n",
       "    </tr>\n",
       "  </tbody>\n",
       "</table>\n",
       "</div>"
      ],
      "text/plain": [
       "   userId  movieId  rating  timestamp\n",
       "0       1        1     4.0  964982703\n",
       "1       1        3     4.0  964981247\n",
       "2       1        6     4.0  964982224\n",
       "3       1       47     5.0  964983815\n",
       "4       1       50     5.0  964982931"
      ]
     },
     "execution_count": 60,
     "metadata": {},
     "output_type": "execute_result"
    }
   ],
   "source": [
    "#load ratings dataset\n",
    "df_ratings = pd.read_csv(\"data/ratings.csv\") \n",
    "df_ratings.head(5)"
   ]
  },
  {
   "cell_type": "code",
   "execution_count": 61,
   "id": "e536f252",
   "metadata": {},
   "outputs": [
    {
     "data": {
      "text/plain": [
       "(9742, 3)"
      ]
     },
     "execution_count": 61,
     "metadata": {},
     "output_type": "execute_result"
    }
   ],
   "source": [
    "#shape of df_movies\n",
    "df_movies.shape"
   ]
  },
  {
   "cell_type": "code",
   "execution_count": 62,
   "id": "722c8bfc",
   "metadata": {},
   "outputs": [
    {
     "data": {
      "text/plain": [
       "(100836, 4)"
      ]
     },
     "execution_count": 62,
     "metadata": {},
     "output_type": "execute_result"
    }
   ],
   "source": [
    "#shape of df_ratings\n",
    "df_ratings.shape"
   ]
  },
  {
   "cell_type": "code",
   "execution_count": 63,
   "id": "1faa79f4",
   "metadata": {},
   "outputs": [
    {
     "data": {
      "text/plain": [
       "64     517\n",
       "128     33\n",
       "192     22\n",
       "256    174\n",
       "320     20\n",
       "      ... \n",
       "319     35\n",
       "383     34\n",
       "447     78\n",
       "511     52\n",
       "575     36\n",
       "Name: userId, Length: 610, dtype: int64"
      ]
     },
     "execution_count": 63,
     "metadata": {},
     "output_type": "execute_result"
    }
   ],
   "source": [
    "df_ratings.userId.value_counts(sort=False)"
   ]
  },
  {
   "cell_type": "code",
   "execution_count": 64,
   "id": "9376e7f5-b815-49ee-bc3a-6e841fc7d557",
   "metadata": {},
   "outputs": [
    {
     "data": {
      "text/html": [
       "<div>\n",
       "<style scoped>\n",
       "    .dataframe tbody tr th:only-of-type {\n",
       "        vertical-align: middle;\n",
       "    }\n",
       "\n",
       "    .dataframe tbody tr th {\n",
       "        vertical-align: top;\n",
       "    }\n",
       "\n",
       "    .dataframe thead th {\n",
       "        text-align: right;\n",
       "    }\n",
       "</style>\n",
       "<table border=\"1\" class=\"dataframe\">\n",
       "  <thead>\n",
       "    <tr style=\"text-align: right;\">\n",
       "      <th></th>\n",
       "      <th>userId</th>\n",
       "      <th>movieId</th>\n",
       "      <th>rating</th>\n",
       "      <th>timestamp</th>\n",
       "      <th>title</th>\n",
       "      <th>genres</th>\n",
       "    </tr>\n",
       "  </thead>\n",
       "  <tbody>\n",
       "    <tr>\n",
       "      <th>0</th>\n",
       "      <td>1</td>\n",
       "      <td>1</td>\n",
       "      <td>4.0</td>\n",
       "      <td>964982703</td>\n",
       "      <td>Toy Story (1995)</td>\n",
       "      <td>Adventure|Animation|Children|Comedy|Fantasy</td>\n",
       "    </tr>\n",
       "    <tr>\n",
       "      <th>1</th>\n",
       "      <td>5</td>\n",
       "      <td>1</td>\n",
       "      <td>4.0</td>\n",
       "      <td>847434962</td>\n",
       "      <td>Toy Story (1995)</td>\n",
       "      <td>Adventure|Animation|Children|Comedy|Fantasy</td>\n",
       "    </tr>\n",
       "    <tr>\n",
       "      <th>2</th>\n",
       "      <td>7</td>\n",
       "      <td>1</td>\n",
       "      <td>4.5</td>\n",
       "      <td>1106635946</td>\n",
       "      <td>Toy Story (1995)</td>\n",
       "      <td>Adventure|Animation|Children|Comedy|Fantasy</td>\n",
       "    </tr>\n",
       "    <tr>\n",
       "      <th>3</th>\n",
       "      <td>15</td>\n",
       "      <td>1</td>\n",
       "      <td>2.5</td>\n",
       "      <td>1510577970</td>\n",
       "      <td>Toy Story (1995)</td>\n",
       "      <td>Adventure|Animation|Children|Comedy|Fantasy</td>\n",
       "    </tr>\n",
       "    <tr>\n",
       "      <th>4</th>\n",
       "      <td>17</td>\n",
       "      <td>1</td>\n",
       "      <td>4.5</td>\n",
       "      <td>1305696483</td>\n",
       "      <td>Toy Story (1995)</td>\n",
       "      <td>Adventure|Animation|Children|Comedy|Fantasy</td>\n",
       "    </tr>\n",
       "  </tbody>\n",
       "</table>\n",
       "</div>"
      ],
      "text/plain": [
       "   userId  movieId  rating   timestamp             title  \\\n",
       "0       1        1     4.0   964982703  Toy Story (1995)   \n",
       "1       5        1     4.0   847434962  Toy Story (1995)   \n",
       "2       7        1     4.5  1106635946  Toy Story (1995)   \n",
       "3      15        1     2.5  1510577970  Toy Story (1995)   \n",
       "4      17        1     4.5  1305696483  Toy Story (1995)   \n",
       "\n",
       "                                        genres  \n",
       "0  Adventure|Animation|Children|Comedy|Fantasy  \n",
       "1  Adventure|Animation|Children|Comedy|Fantasy  \n",
       "2  Adventure|Animation|Children|Comedy|Fantasy  \n",
       "3  Adventure|Animation|Children|Comedy|Fantasy  \n",
       "4  Adventure|Animation|Children|Comedy|Fantasy  "
      ]
     },
     "execution_count": 64,
     "metadata": {},
     "output_type": "execute_result"
    }
   ],
   "source": [
    "#merge movies and ratings dataset\n",
    "df = df_ratings.merge(df_movies, on=\"movieId\")\n",
    "df.head()"
   ]
  },
  {
   "cell_type": "code",
   "execution_count": 65,
   "id": "d2f53a59-9a17-4ed3-bac8-4a39917a4b07",
   "metadata": {},
   "outputs": [
    {
     "data": {
      "text/html": [
       "<div>\n",
       "<style scoped>\n",
       "    .dataframe tbody tr th:only-of-type {\n",
       "        vertical-align: middle;\n",
       "    }\n",
       "\n",
       "    .dataframe tbody tr th {\n",
       "        vertical-align: top;\n",
       "    }\n",
       "\n",
       "    .dataframe thead th {\n",
       "        text-align: right;\n",
       "    }\n",
       "</style>\n",
       "<table border=\"1\" class=\"dataframe\">\n",
       "  <thead>\n",
       "    <tr style=\"text-align: right;\">\n",
       "      <th></th>\n",
       "      <th>userId</th>\n",
       "      <th>movieId</th>\n",
       "      <th>rating</th>\n",
       "      <th>timestamp</th>\n",
       "    </tr>\n",
       "  </thead>\n",
       "  <tbody>\n",
       "    <tr>\n",
       "      <th>count</th>\n",
       "      <td>100836.000000</td>\n",
       "      <td>100836.000000</td>\n",
       "      <td>100836.000000</td>\n",
       "      <td>1.008360e+05</td>\n",
       "    </tr>\n",
       "    <tr>\n",
       "      <th>mean</th>\n",
       "      <td>326.127564</td>\n",
       "      <td>19435.295718</td>\n",
       "      <td>3.501557</td>\n",
       "      <td>1.205946e+09</td>\n",
       "    </tr>\n",
       "    <tr>\n",
       "      <th>std</th>\n",
       "      <td>182.618491</td>\n",
       "      <td>35530.987199</td>\n",
       "      <td>1.042529</td>\n",
       "      <td>2.162610e+08</td>\n",
       "    </tr>\n",
       "    <tr>\n",
       "      <th>min</th>\n",
       "      <td>1.000000</td>\n",
       "      <td>1.000000</td>\n",
       "      <td>0.500000</td>\n",
       "      <td>8.281246e+08</td>\n",
       "    </tr>\n",
       "    <tr>\n",
       "      <th>25%</th>\n",
       "      <td>177.000000</td>\n",
       "      <td>1199.000000</td>\n",
       "      <td>3.000000</td>\n",
       "      <td>1.019124e+09</td>\n",
       "    </tr>\n",
       "    <tr>\n",
       "      <th>50%</th>\n",
       "      <td>325.000000</td>\n",
       "      <td>2991.000000</td>\n",
       "      <td>3.500000</td>\n",
       "      <td>1.186087e+09</td>\n",
       "    </tr>\n",
       "    <tr>\n",
       "      <th>75%</th>\n",
       "      <td>477.000000</td>\n",
       "      <td>8122.000000</td>\n",
       "      <td>4.000000</td>\n",
       "      <td>1.435994e+09</td>\n",
       "    </tr>\n",
       "    <tr>\n",
       "      <th>max</th>\n",
       "      <td>610.000000</td>\n",
       "      <td>193609.000000</td>\n",
       "      <td>5.000000</td>\n",
       "      <td>1.537799e+09</td>\n",
       "    </tr>\n",
       "  </tbody>\n",
       "</table>\n",
       "</div>"
      ],
      "text/plain": [
       "              userId        movieId         rating     timestamp\n",
       "count  100836.000000  100836.000000  100836.000000  1.008360e+05\n",
       "mean      326.127564   19435.295718       3.501557  1.205946e+09\n",
       "std       182.618491   35530.987199       1.042529  2.162610e+08\n",
       "min         1.000000       1.000000       0.500000  8.281246e+08\n",
       "25%       177.000000    1199.000000       3.000000  1.019124e+09\n",
       "50%       325.000000    2991.000000       3.500000  1.186087e+09\n",
       "75%       477.000000    8122.000000       4.000000  1.435994e+09\n",
       "max       610.000000  193609.000000       5.000000  1.537799e+09"
      ]
     },
     "execution_count": 65,
     "metadata": {},
     "output_type": "execute_result"
    }
   ],
   "source": [
    "df.describe()"
   ]
  },
  {
   "cell_type": "code",
   "execution_count": 66,
   "id": "3a808d7c-b6dd-465a-9bf4-c5fd50ae9b2c",
   "metadata": {},
   "outputs": [
    {
     "name": "stdout",
     "output_type": "stream",
     "text": [
      "Mode of rating: 0    4.0\n",
      "dtype: float64\n",
      "Mean of rating: 3.501556983616962\n",
      "Median of rating: 3.5\n"
     ]
    }
   ],
   "source": [
    "print(f\"Mode of rating: {df.rating.mode()}\")\n",
    "print(f\"Mean of rating: {df.rating.mean()}\")\n",
    "print(f\"Median of rating: {df.rating.median()}\")"
   ]
  },
  {
   "cell_type": "code",
   "execution_count": 67,
   "id": "7c406bac-2783-4da8-a727-67717b403a23",
   "metadata": {},
   "outputs": [
    {
     "name": "stdout",
     "output_type": "stream",
     "text": [
      "<class 'pandas.core.frame.DataFrame'>\n",
      "Int64Index: 100836 entries, 0 to 100835\n",
      "Data columns (total 6 columns):\n",
      " #   Column     Non-Null Count   Dtype  \n",
      "---  ------     --------------   -----  \n",
      " 0   userId     100836 non-null  int64  \n",
      " 1   movieId    100836 non-null  int64  \n",
      " 2   rating     100836 non-null  float64\n",
      " 3   timestamp  100836 non-null  int64  \n",
      " 4   title      100836 non-null  object \n",
      " 5   genres     100836 non-null  object \n",
      "dtypes: float64(1), int64(3), object(2)\n",
      "memory usage: 5.4+ MB\n"
     ]
    }
   ],
   "source": [
    "#check datatypes and null values \n",
    "df.info()"
   ]
  },
  {
   "cell_type": "code",
   "execution_count": 68,
   "id": "db19c951-63ac-4fbe-9fea-ae49bf802c4d",
   "metadata": {},
   "outputs": [
    {
     "data": {
      "text/plain": [
       "0"
      ]
     },
     "execution_count": 68,
     "metadata": {},
     "output_type": "execute_result"
    }
   ],
   "source": [
    "#check datatypes and null values \n",
    "df.duplicated().sum()"
   ]
  },
  {
   "cell_type": "markdown",
   "id": "b6e86c3c-1ad1-4f41-8b74-5d01af627f7d",
   "metadata": {},
   "source": [
    "## 3. Exploratory Data Analysis"
   ]
  },
  {
   "cell_type": "markdown",
   "id": "9ecf0775-1238-46c4-9984-a34507e6427a",
   "metadata": {},
   "source": [
    "### Nmber of Movies, Ratings and Users"
   ]
  },
  {
   "cell_type": "markdown",
   "id": "9f599c20-cd74-401c-9316-eac81c5124e7",
   "metadata": {},
   "source": [
    "* Number of movies, ratings and users in the datasets\n",
    "* Average number of ratings per user\n",
    "* Average number of ratings per movie"
   ]
  },
  {
   "cell_type": "code",
   "execution_count": 69,
   "id": "941e36f1-f3ae-4e3d-a44f-d55fee2b7b2b",
   "metadata": {},
   "outputs": [
    {
     "name": "stdout",
     "output_type": "stream",
     "text": [
      "Number of ratings: 100836\n",
      "Number of movies: 9724\n",
      "Number of users: 610\n",
      "\n",
      "Average number of ratings per user: 165.3\n",
      "Average number of ratings per movie: 10.37\n"
     ]
    }
   ],
   "source": [
    "#number of ratings of movies \n",
    "n_ratings = len(df_ratings) \n",
    "# number of movies \n",
    "n_movies = df_ratings['movieId'].nunique()\n",
    "# number of users \n",
    "n_users = df_ratings['userId'].nunique() \n",
    "\n",
    "print(f\"Number of ratings: {n_ratings}\")\n",
    "print(f\"Number of movies: {n_movies}\") \n",
    "print(f\"Number of users: {n_users}\") \n",
    "print()\n",
    "# Average number of ratings per user & per movie\n",
    "print(f\"Average number of ratings per user: {round(n_ratings/n_users, 2)}\") \n",
    "print(f\"Average number of ratings per movie: {round(n_ratings/n_movies, 2)}\")"
   ]
  },
  {
   "cell_type": "markdown",
   "id": "99c998d8-e10c-4531-973b-abb856a2cda6",
   "metadata": {},
   "source": [
    "### Distribusion of movie ratings"
   ]
  },
  {
   "cell_type": "code",
   "execution_count": 70,
   "id": "e4ff070b-2f01-47d6-beba-b6246c4f1b71",
   "metadata": {},
   "outputs": [
    {
     "data": {
      "image/png": "[encoded data removed]",
      "text/plain": [
       "<Figure size 432x288 with 1 Axes>"
      ]
     },
     "metadata": {
      "needs_background": "light"
     },
     "output_type": "display_data"
    }
   ],
   "source": [
    "# plot bar graph to show distribution of movie ratings\n",
    "sns.countplot(x='rating', data=df_ratings) \n",
    "plt.title(\"Distribusion of movie ratings\")\n",
    "plt.show()"
   ]
  },
  {
   "cell_type": "code",
   "execution_count": 71,
   "id": "25f9666e-42fe-45a4-bffa-af0bcf34bd6e",
   "metadata": {},
   "outputs": [
    {
     "name": "stdout",
     "output_type": "stream",
     "text": [
      "Mean of ratings: 3.5\n"
     ]
    }
   ],
   "source": [
    "print(f\"Mean of ratings: {round(df_ratings['rating'].mean(), 2)}\")"
   ]
  },
  {
   "cell_type": "markdown",
   "id": "f83ee53c-cd23-4a88-8627-fa6e23b67590",
   "metadata": {},
   "source": [
    "### Movies most frequently rated"
   ]
  },
  {
   "cell_type": "code",
   "execution_count": 72,
   "id": "5401592f-3ce4-4ade-b0b6-232df2ae2fe2",
   "metadata": {},
   "outputs": [
    {
     "data": {
      "text/plain": [
       "Forrest Gump (1994)                 329\n",
       "Shawshank Redemption, The (1994)    317\n",
       "Pulp Fiction (1994)                 307\n",
       "Silence of the Lambs, The (1991)    279\n",
       "Matrix, The (1999)                  278\n",
       "Name: title, dtype: int64"
      ]
     },
     "execution_count": 72,
     "metadata": {},
     "output_type": "execute_result"
    }
   ],
   "source": [
    "# most frequently rated movies in the dataset\n",
    "top_movie_ratings = df['title'].value_counts()[0:5] \n",
    "top_movie_ratings"
   ]
  },
  {
   "cell_type": "markdown",
   "id": "33645386-962b-4e43-a780-c81ac5fc3097",
   "metadata": {},
   "source": [
    "## 4.  Modeling "
   ]
  },
  {
   "cell_type": "markdown",
   "id": "bad71d5c-aacd-418b-8086-a4c4927da314",
   "metadata": {},
   "source": [
    "### 4.1. Model for Collaborative Filtering \n",
    "* Recommend movies using collaborative filtering\n",
    "* This model recommends movies for a user based on user ratings of other movies and other similar uers' ratings"
   ]
  },
  {
   "cell_type": "code",
   "execution_count": 73,
   "id": "1f8ac5ee-d94c-4217-afd4-e1d78ed312d6",
   "metadata": {},
   "outputs": [],
   "source": [
    "# Prepare dataset for Surprise\n",
    "reader = Reader(rating_scale=(0.5, 5))\n",
    "data = Dataset.load_from_df(df_ratings[['userId', 'movieId', 'rating']], reader)\n",
    "#trainset = data.build_full_trainset() "
   ]
  },
  {
   "cell_type": "code",
   "execution_count": 74,
   "id": "aeee2206-01b4-473b-950d-d6d704d72129",
   "metadata": {},
   "outputs": [
    {
     "data": {
      "text/plain": [
       "<surprise.prediction_algorithms.matrix_factorization.SVD at 0x2a5c3135910>"
      ]
     },
     "execution_count": 74,
     "metadata": {},
     "output_type": "execute_result"
    }
   ],
   "source": [
    "#Random Split of the dataset to trainset and testset \n",
    "trainset, testset = surprise_split(data, test_size=0.2)\n",
    "\n",
    "# Train SVD model\n",
    "svd_model = SVD()\n",
    "svd_model.fit(trainset)"
   ]
  },
  {
   "cell_type": "markdown",
   "id": "710aef3a-647b-46b3-a8e6-e796f862804a",
   "metadata": {},
   "source": [
    "### Recommendation of top 5 movies for a user"
   ]
  },
  {
   "cell_type": "code",
   "execution_count": 75,
   "id": "b50747df-1bc7-4f44-87a0-ef623aa0f0d5",
   "metadata": {},
   "outputs": [
    {
     "name": "stdout",
     "output_type": "stream",
     "text": [
      "                                               title  \\\n",
      "7466                       King's Speech, The (2010)   \n",
      "46                        Usual Suspects, The (1995)   \n",
      "4025  Grave of the Fireflies (Hotaru no haka) (1988)   \n",
      "685                                   Vertigo (1958)   \n",
      "975                            Cool Hand Luke (1967)   \n",
      "\n",
      "                              genres  \n",
      "7466                           Drama  \n",
      "46            Crime|Mystery|Thriller  \n",
      "4025             Animation|Drama|War  \n",
      "685   Drama|Mystery|Romance|Thriller  \n",
      "975                            Drama  \n"
     ]
    }
   ],
   "source": [
    "# function for recommendation of top 5 movies for a user using the trained model\n",
    "\n",
    "def get_cf_recommendations(userId, num_recommendations=5):\n",
    "    #predict ratings by a user for movies\n",
    "    predictions = [svd_model.predict(userId, movieId).est for movieId in df_movies[\"movieId\"]]\n",
    "    df_movies[\"predicted_rating\"] = predictions\n",
    "    recommendations = df_movies.sort_values(\"predicted_rating\", ascending=False).head(num_recommendations)\n",
    "    return recommendations[[\"title\", \"genres\"]]\n",
    " \n",
    "# print recommended movies for a user as an example of model usage\n",
    "print(get_cf_recommendations(userId=10))"
   ]
  },
  {
   "cell_type": "markdown",
   "id": "d5375906-b875-49a2-95fd-b2bb85cc65d4",
   "metadata": {},
   "source": [
    "* Above is a recommendation of top 5 movies for userId = 10, as an example"
   ]
  },
  {
   "cell_type": "markdown",
   "id": "fd2d9d1a-b729-4933-b59f-6961f6291e80",
   "metadata": {},
   "source": [
    "## Evaluation of the Model on testset"
   ]
  },
  {
   "cell_type": "markdown",
   "id": "912d589b-7dea-4180-9f3b-5f77defbe4af",
   "metadata": {},
   "source": [
    "* **Performance metric** Root Mean Square Error **(RMSE)** is used to evaluate the accuracy of the model\n",
    "* It evaluates the model's predicted ratings versus the actual ratings in the test set"
   ]
  },
  {
   "cell_type": "code",
   "execution_count": 76,
   "id": "ff83cb5c-2446-4174-aca5-ef20551f9aee",
   "metadata": {},
   "outputs": [
    {
     "name": "stdout",
     "output_type": "stream",
     "text": [
      "user: 111        item: 39         r_ui = 4.00   est = 3.17   {'was_impossible': False}\n",
      "user: 373        item: 357        r_ui = 3.00   est = 3.55   {'was_impossible': False}\n",
      "user: 63         item: 59615      r_ui = 4.00   est = 2.70   {'was_impossible': False}\n",
      "RMSE: 0.8741\n",
      "RMSE: 0.8741260837327777\n"
     ]
    }
   ],
   "source": [
    "# Predict on testset\n",
    "predictions_test = svd_model.test(testset) \n",
    "\n",
    "for pred in predictions_test[:3]: \n",
    "    print(pred)\n",
    "\n",
    "print(\"RMSE:\", accuracy.rmse(predictions_test))"
   ]
  },
  {
   "cell_type": "markdown",
   "id": "3ebc7d37-d704-4946-90d8-a7f80f34b3e4",
   "metadata": {},
   "source": [
    "* svd_model prediction object include: **user ID**, the **item (movie) ID**, **r_ui**(the true rating if known (otherwise None)), **est**(the model's estimated rating) and details: any additional metadata (like confidence)"
   ]
  },
  {
   "cell_type": "markdown",
   "id": "9425888b-5d8b-4116-9eba-627e9119b4cb",
   "metadata": {},
   "source": [
    "* A value of 0.87 of **RMSE** shows that the model deviated by about 0.87 ratings \n",
    "from the actual ratings on a 0.5 - 5.0 ratings\n",
    "* It is below 1.0 and can be considered good model performance"
   ]
  },
  {
   "cell_type": "markdown",
   "id": "c58e5486-07ba-4988-9f02-7699a77cce85",
   "metadata": {},
   "source": [
    "### 4.2. Model for Content-Based Filtering"
   ]
  },
  {
   "cell_type": "markdown",
   "id": "3088ad2f-6ab2-4381-adf8-b7e0249e78d5",
   "metadata": {},
   "source": [
    "* To recommend similar movies for a new user based on the genre of a movie watched \n",
    "* This model adresses **cold start**, when user has not rated movies yet"
   ]
  },
  {
   "cell_type": "code",
   "execution_count": 77,
   "id": "c6550ea4-264b-4fa9-a47a-e7e434b65c04",
   "metadata": {},
   "outputs": [],
   "source": [
    "# for this we use the merged df\n",
    "# we split the dataset into train/test sets\n",
    "train_df, test_df = train_test_split(df, test_size=0.2, random_state=42)"
   ]
  },
  {
   "cell_type": "code",
   "execution_count": 78,
   "id": "cebc55f0-0e60-4219-a763-4ceffcb96489",
   "metadata": {},
   "outputs": [],
   "source": [
    "# We build the TF-IDF using only the train set\n",
    "# Convert the genres into TF-IDF features\n",
    "\n",
    "tfidf = TfidfVectorizer(stop_words=\"english\")\n",
    "tfidf_matrix = tfidf.fit_transform(train_df[\"genres\"]) \n",
    "\n",
    "# Store movie indices\n",
    "movie_indices = pd.Series(train_df.drop_duplicates(\"movieId\").index,\n",
    "                          index=train_df.drop_duplicates(\"movieId\")[\"title\"]).drop_duplicates()"
   ]
  },
  {
   "cell_type": "code",
   "execution_count": 79,
   "id": "4027edc8-16bb-44fd-b96d-a01371d1863c",
   "metadata": {},
   "outputs": [
    {
     "name": "stdout",
     "output_type": "stream",
     "text": [
      "                               title               genres\n",
      "33           Dead Man Walking (1995)          Crime|Drama\n",
      "36   Cry, the Beloved Country (1995)                Drama\n",
      "128            Beyond Rangoon (1995)  Adventure|Drama|War\n",
      "160                  Reckless (1995)       Comedy|Fantasy\n",
      "236          Man of the House (1995)               Comedy\n"
     ]
    }
   ],
   "source": [
    "#define a function that takes in a movie title as an input to return 5 similar movies\n",
    "def get_cbf_recommendations(title, num_recommendations=5):\n",
    "    \n",
    "    # map movie title to its row index\n",
    "    idx = movie_indices[title] \n",
    "    \n",
    "    # plug idx into similarity matrix\n",
    "    # Cosine similarity measures how similar two vectors are\n",
    "    #Calculate scores between the TF-IDF vectorof chosen movie (tfidf_matrix[idx]) \n",
    "    #and all other movies in the matrix.\n",
    "    sim_scores = list(enumerate(cosine_similarity(tfidf_matrix[idx], tfidf_matrix)[0]))\n",
    "    \n",
    "    #sort the similarity scores in descending order (most similar first).\n",
    "    #skip index 0(that's the movie itself) and take the next best matches.\n",
    "    sim_scores = sorted(sim_scores, key=lambda x: x[1], reverse=True)[1:num_recommendations+1]\n",
    "    \n",
    "    # extract the row indices of those top similar movies\n",
    "    movie_ids = [i[0] for i in sim_scores]\n",
    "    \n",
    "    #return the title and genre of the top similar movies\n",
    "    return df_movies.iloc[movie_ids][[\"title\", \"genres\"]]\n",
    "# Example Usage\n",
    "print(get_cbf_recommendations(\"Toy Story (1995)\"))"
   ]
  },
  {
   "cell_type": "markdown",
   "id": "4aa6816e-44d4-439d-b0e2-ceb77c6a1045",
   "metadata": {},
   "source": [
    "### 5. Conclusions \n",
    "* We implemented Collaborative Filtering(CF) using SVD from the Suprise library\n",
    "* Evaluation matrix RMSE = 0.87 for Collaborative Filtering is achieved. This is acceptable for rating prediction.\n",
    "* Collaborative Filtering is ideal for personalized recommendations once the user has rated many items/movies.\n",
    "* We used TF-IDf vectorization of genre for Content-Based Filtering(CBF) to recommend top N unseen movies to especially for new users or items not yet rated.\n",
    " "
   ]
  },
  {
   "cell_type": "markdown",
   "id": "77209c10-6a6a-466e-ae8f-e54b517c1ee7",
   "metadata": {},
   "source": [
    "### 6. Recommendations \n",
    "* Use hybrid system(Combine CF and CBF) for better accuracy\n",
    "* Hyperparameter tuning for CF to improve RMSE\n",
    "* To include more features such as movie description for CBF to improve the model. "
   ]
  },
  {
   "cell_type": "code",
   "execution_count": null,
   "id": "133c5c66-bd68-4147-9c18-14a0cc4c5b0e",
   "metadata": {},
   "outputs": [],
   "source": []
  }
 ],
 "metadata": {
  "kernelspec": {
   "display_name": "Python (learn-env)",
   "language": "python",
   "name": "learn-env"
  },
  "language_info": {
   "codemirror_mode": {
    "name": "ipython",
    "version": 3
   },
   "file_extension": ".py",
   "mimetype": "text/x-python",
   "name": "python",
   "nbconvert_exporter": "python",
   "pygments_lexer": "ipython3",
   "version": "3.8.5"
  }
 },
 "nbformat": 4,
 "nbformat_minor": 5
}
